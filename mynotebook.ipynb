{
 "cells": [
  {
   "cell_type": "markdown",
   "id": "2933d662",
   "metadata": {},
   "source": [
    "# My Jupyter Notebook"
   ]
  },
  {
   "cell_type": "code",
   "execution_count": 2,
   "id": "ae45a6b8",
   "metadata": {},
   "outputs": [
    {
     "name": "stdout",
     "output_type": "stream",
     "text": [
      "Hellow World!\n"
     ]
    }
   ],
   "source": [
    "print(\"Hellow World!\")"
   ]
  },
  {
   "cell_type": "code",
   "execution_count": 1,
   "id": "1afd2720",
   "metadata": {},
   "outputs": [
    {
     "name": "stdout",
     "output_type": "stream",
     "text": [
      "I am adding new line from my local Jupyter Notebook.\n"
     ]
    }
   ],
   "source": [
    "print(\"I am adding new line from my local Jupyter Notebook.\")"
   ]
  },
  {
   "cell_type": "code",
   "execution_count": 1,
   "id": "591ba2b8",
   "metadata": {},
   "outputs": [
    {
     "name": "stdout",
     "output_type": "stream",
     "text": [
      "today is May 14th\n"
     ]
    }
   ],
   "source": [
    "print(\"today is May 14th\")"
   ]
  },
  {
   "cell_type": "markdown",
   "id": "a1659220",
   "metadata": {},
   "source": [
    "# Data Collection"
   ]
  },
  {
   "cell_type": "markdown",
   "id": "6d13244b",
   "metadata": {},
   "source": [
    "## Collect data from WHO\n",
    "- __bullet__\n",
    "  * sub bullet"
   ]
  },
  {
   "cell_type": "code",
   "execution_count": 2,
   "id": "35dc0caf",
   "metadata": {},
   "outputs": [],
   "source": [
    "import pandas as pd"
   ]
  },
  {
   "cell_type": "code",
   "execution_count": 3,
   "id": "c477fe80",
   "metadata": {},
   "outputs": [],
   "source": [
    "# initial data\n",
    "who_url = 'https://covid19.who.int/WHO-COVID-19-global-data.csv'\n",
    "\n",
    "# download from WHO cloud\n",
    "raw_data = pd.read_csv(who_url)"
   ]
  },
  {
   "cell_type": "code",
   "execution_count": null,
   "id": "8a261d34",
   "metadata": {},
   "outputs": [],
   "source": [
    "#!pip install pandas"
   ]
  },
  {
   "cell_type": "code",
   "execution_count": 11,
   "id": "da2243c1",
   "metadata": {},
   "outputs": [
    {
     "data": {
      "text/html": [
       "<div>\n",
       "<style scoped>\n",
       "    .dataframe tbody tr th:only-of-type {\n",
       "        vertical-align: middle;\n",
       "    }\n",
       "\n",
       "    .dataframe tbody tr th {\n",
       "        vertical-align: top;\n",
       "    }\n",
       "\n",
       "    .dataframe thead th {\n",
       "        text-align: right;\n",
       "    }\n",
       "</style>\n",
       "<table border=\"1\" class=\"dataframe\">\n",
       "  <thead>\n",
       "    <tr style=\"text-align: right;\">\n",
       "      <th></th>\n",
       "      <th>Date_reported</th>\n",
       "      <th>Country_code</th>\n",
       "      <th>Country</th>\n",
       "      <th>WHO_region</th>\n",
       "      <th>New_cases</th>\n",
       "      <th>Cumulative_cases</th>\n",
       "      <th>New_deaths</th>\n",
       "      <th>Cumulative_deaths</th>\n",
       "    </tr>\n",
       "  </thead>\n",
       "  <tbody>\n",
       "    <tr>\n",
       "      <th>85723</th>\n",
       "      <td>2021-07-17</td>\n",
       "      <td>IR</td>\n",
       "      <td>Iran (Islamic Republic of)</td>\n",
       "      <td>EMRO</td>\n",
       "      <td>21885</td>\n",
       "      <td>3485940</td>\n",
       "      <td>199</td>\n",
       "      <td>86791</td>\n",
       "    </tr>\n",
       "    <tr>\n",
       "      <th>81292</th>\n",
       "      <td>2021-04-22</td>\n",
       "      <td>HN</td>\n",
       "      <td>Honduras</td>\n",
       "      <td>AMRO</td>\n",
       "      <td>736</td>\n",
       "      <td>202413</td>\n",
       "      <td>13</td>\n",
       "      <td>4976</td>\n",
       "    </tr>\n",
       "    <tr>\n",
       "      <th>192368</th>\n",
       "      <td>2020-11-17</td>\n",
       "      <td>TV</td>\n",
       "      <td>Tuvalu</td>\n",
       "      <td>WPRO</td>\n",
       "      <td>0</td>\n",
       "      <td>0</td>\n",
       "      <td>0</td>\n",
       "      <td>0</td>\n",
       "    </tr>\n",
       "    <tr>\n",
       "      <th>87425</th>\n",
       "      <td>2021-06-11</td>\n",
       "      <td>IE</td>\n",
       "      <td>Ireland</td>\n",
       "      <td>EURO</td>\n",
       "      <td>398</td>\n",
       "      <td>266817</td>\n",
       "      <td>0</td>\n",
       "      <td>5026</td>\n",
       "    </tr>\n",
       "    <tr>\n",
       "      <th>12367</th>\n",
       "      <td>2020-07-22</td>\n",
       "      <td>BS</td>\n",
       "      <td>Bahamas</td>\n",
       "      <td>AMRO</td>\n",
       "      <td>21</td>\n",
       "      <td>174</td>\n",
       "      <td>0</td>\n",
       "      <td>11</td>\n",
       "    </tr>\n",
       "    <tr>\n",
       "      <th>56874</th>\n",
       "      <td>2021-01-26</td>\n",
       "      <td>EE</td>\n",
       "      <td>Estonia</td>\n",
       "      <td>EURO</td>\n",
       "      <td>357</td>\n",
       "      <td>41320</td>\n",
       "      <td>9</td>\n",
       "      <td>392</td>\n",
       "    </tr>\n",
       "    <tr>\n",
       "      <th>104011</th>\n",
       "      <td>2021-08-25</td>\n",
       "      <td>LY</td>\n",
       "      <td>Libya</td>\n",
       "      <td>EMRO</td>\n",
       "      <td>1894</td>\n",
       "      <td>298773</td>\n",
       "      <td>23</td>\n",
       "      <td>4099</td>\n",
       "    </tr>\n",
       "    <tr>\n",
       "      <th>99641</th>\n",
       "      <td>2021-07-31</td>\n",
       "      <td>LA</td>\n",
       "      <td>Lao People's Democratic Republic</td>\n",
       "      <td>WPRO</td>\n",
       "      <td>244</td>\n",
       "      <td>5919</td>\n",
       "      <td>0</td>\n",
       "      <td>6</td>\n",
       "    </tr>\n",
       "    <tr>\n",
       "      <th>54484</th>\n",
       "      <td>2021-08-31</td>\n",
       "      <td>SV</td>\n",
       "      <td>El Salvador</td>\n",
       "      <td>AMRO</td>\n",
       "      <td>0</td>\n",
       "      <td>94060</td>\n",
       "      <td>11</td>\n",
       "      <td>2909</td>\n",
       "    </tr>\n",
       "    <tr>\n",
       "      <th>71900</th>\n",
       "      <td>2021-10-06</td>\n",
       "      <td>GL</td>\n",
       "      <td>Greenland</td>\n",
       "      <td>EURO</td>\n",
       "      <td>4</td>\n",
       "      <td>595</td>\n",
       "      <td>0</td>\n",
       "      <td>0</td>\n",
       "    </tr>\n",
       "  </tbody>\n",
       "</table>\n",
       "</div>"
      ],
      "text/plain": [
       "       Date_reported Country_code                           Country  \\\n",
       "85723     2021-07-17           IR        Iran (Islamic Republic of)   \n",
       "81292     2021-04-22           HN                          Honduras   \n",
       "192368    2020-11-17           TV                            Tuvalu   \n",
       "87425     2021-06-11           IE                           Ireland   \n",
       "12367     2020-07-22           BS                           Bahamas   \n",
       "56874     2021-01-26           EE                           Estonia   \n",
       "104011    2021-08-25           LY                             Libya   \n",
       "99641     2021-07-31           LA  Lao People's Democratic Republic   \n",
       "54484     2021-08-31           SV                       El Salvador   \n",
       "71900     2021-10-06           GL                         Greenland   \n",
       "\n",
       "       WHO_region  New_cases  Cumulative_cases  New_deaths  Cumulative_deaths  \n",
       "85723        EMRO      21885           3485940         199              86791  \n",
       "81292        AMRO        736            202413          13               4976  \n",
       "192368       WPRO          0                 0           0                  0  \n",
       "87425        EURO        398            266817           0               5026  \n",
       "12367        AMRO         21               174           0                 11  \n",
       "56874        EURO        357             41320           9                392  \n",
       "104011       EMRO       1894            298773          23               4099  \n",
       "99641        WPRO        244              5919           0                  6  \n",
       "54484        AMRO          0             94060          11               2909  \n",
       "71900        EURO          4               595           0                  0  "
      ]
     },
     "execution_count": 11,
     "metadata": {},
     "output_type": "execute_result"
    }
   ],
   "source": [
    "raw_data.sample(10)"
   ]
  },
  {
   "cell_type": "code",
   "execution_count": 12,
   "id": "cd04087a",
   "metadata": {},
   "outputs": [
    {
     "name": "stdout",
     "output_type": "stream",
     "text": [
      "<class 'pandas.core.frame.DataFrame'>\n",
      "RangeIndex: 205953 entries, 0 to 205952\n",
      "Data columns (total 8 columns):\n",
      " #   Column             Non-Null Count   Dtype \n",
      "---  ------             --------------   ----- \n",
      " 0   Date_reported      205953 non-null  object\n",
      " 1   Country_code       205084 non-null  object\n",
      " 2   Country            205953 non-null  object\n",
      " 3   WHO_region         205953 non-null  object\n",
      " 4   New_cases          205953 non-null  int64 \n",
      " 5   Cumulative_cases   205953 non-null  int64 \n",
      " 6   New_deaths         205953 non-null  int64 \n",
      " 7   Cumulative_deaths  205953 non-null  int64 \n",
      "dtypes: int64(4), object(4)\n",
      "memory usage: 12.6+ MB\n"
     ]
    }
   ],
   "source": [
    "raw_data.info()"
   ]
  },
  {
   "cell_type": "code",
   "execution_count": null,
   "id": "6ca56c6c",
   "metadata": {},
   "outputs": [],
   "source": [
    "raw_data[raw_]"
   ]
  }
 ],
 "metadata": {
  "kernelspec": {
   "display_name": "Python 3 (ipykernel)",
   "language": "python",
   "name": "python3"
  },
  "language_info": {
   "codemirror_mode": {
    "name": "ipython",
    "version": 3
   },
   "file_extension": ".py",
   "mimetype": "text/x-python",
   "name": "python",
   "nbconvert_exporter": "python",
   "pygments_lexer": "ipython3",
   "version": "3.9.7"
  }
 },
 "nbformat": 4,
 "nbformat_minor": 5
}
